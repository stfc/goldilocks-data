{
 "cells": [
  {
   "cell_type": "code",
   "execution_count": 4,
   "id": "36cbb812",
   "metadata": {},
   "outputs": [],
   "source": [
    "import numpy as np\n",
    "import pandas as pd\n",
    "import os\n",
    "import json\n",
    "import shutil\n",
    "from pymatgen.core.structure import Structure\n",
    "from pymatgen.core.composition import Composition\n",
    "import matplotlib.pyplot as plt"
   ]
  },
  {
   "cell_type": "markdown",
   "id": "40b2b9b0",
   "metadata": {},
   "source": [
    "## Processing Junwen's data"
   ]
  },
  {
   "cell_type": "code",
   "execution_count": 2,
   "id": "ee775255",
   "metadata": {},
   "outputs": [],
   "source": [
    "path_oxides='/Users/elena.patyukova/Documents/Junwen-data/goldilocks_verfication/oxides/'\n",
    "list_of_dirs=os.listdir(path_oxides)"
   ]
  },
  {
   "cell_type": "code",
   "execution_count": 3,
   "id": "83925a1a",
   "metadata": {},
   "outputs": [
    {
     "name": "stdout",
     "output_type": "stream",
     "text": [
      ".DS_Store\n"
     ]
    }
   ],
   "source": [
    "names=[]\n",
    "paths=[]\n",
    "well_conv_kx=[]\n",
    "well_conv_ky=[]\n",
    "well_conv_kz=[]\n",
    "medium_conv_kx=[]\n",
    "medium_conv_ky=[]\n",
    "medium_conv_kz=[]\n",
    "for folder in list_of_dirs:\n",
    "    try:\n",
    "        list_of_files=os.listdir(path_oxides+folder)\n",
    "        medium_file=folder+'_medium.in'\n",
    "        well_file=folder+'_well.in'\n",
    "        if medium_file in list_of_files:\n",
    "            switch=0\n",
    "            with open(path_oxides+folder+'/'+medium_file,'r') as f:\n",
    "                for line in f:\n",
    "                    if(switch==1):\n",
    "                        switch=0\n",
    "                        kx,ky,kz,_,_,_=line.split(' ')\n",
    "                    if(line[:18]=='K_POINTS automatic'):\n",
    "                        switch=1\n",
    "            medium_conv_kx.append(int(kx))\n",
    "            medium_conv_ky.append(int(ky))\n",
    "            medium_conv_kz.append(int(kz))\n",
    "        else:\n",
    "            medium_conv_kx.append(np.nan)\n",
    "            medium_conv_ky.append(np.nan)\n",
    "            medium_conv_kz.append(np.nan)\n",
    "        if well_file in list_of_files:\n",
    "            switch=0\n",
    "            with open(path_oxides+folder+'/'+well_file,'r') as f:\n",
    "                for line in f:\n",
    "                    if(switch==1):\n",
    "                        switch=0\n",
    "                        kx,ky,kz,_,_,_=line.split(' ')\n",
    "                    if(line[:18]=='K_POINTS automatic'):\n",
    "                        switch=1\n",
    "            well_conv_kx.append(int(kx))\n",
    "            well_conv_ky.append(int(ky))\n",
    "            well_conv_kz.append(int(kz))\n",
    "        else:\n",
    "            well_conv_kx.append(np.nan)\n",
    "            well_conv_ky.append(np.nan)\n",
    "            well_conv_kz.append(np.nan)\n",
    "        names.append(folder)\n",
    "        paths.append(path_oxides+folder+'/'+folder+'.cif')\n",
    "    except:\n",
    "        print(folder)"
   ]
  },
  {
   "cell_type": "code",
   "execution_count": 4,
   "id": "5e5535b8",
   "metadata": {},
   "outputs": [],
   "source": [
    "path_unaries='/Users/elena.patyukova/Documents/Junwen-data/goldilocks_verfication/unaries/'\n",
    "list_of_dirs=os.listdir(path_unaries)\n",
    "\n",
    "for folder in list_of_dirs:\n",
    "    try:\n",
    "        list_of_files=os.listdir(path_unaries+folder)\n",
    "        medium_file=folder+'_medium.in'\n",
    "        well_file=folder+'_well.in'\n",
    "        if medium_file in list_of_files:\n",
    "            switch=0\n",
    "            with open(path_oxides+folder+'/'+medium_file,'r') as f:\n",
    "                for line in f:\n",
    "                    if(switch==1):\n",
    "                        switch=0\n",
    "                        kx,ky,kz,_,_,_=line.split(' ')\n",
    "                    if(line[:18]=='K_POINTS automatic'):\n",
    "                        switch=1\n",
    "            medium_conv_kx.append(int(kx))\n",
    "            medium_conv_ky.append(int(ky))\n",
    "            medium_conv_kz.append(int(kz))\n",
    "        else:\n",
    "            medium_conv_kx.append(np.nan)\n",
    "            medium_conv_ky.append(np.nan)\n",
    "            medium_conv_kz.append(np.nan)\n",
    "        if well_file in list_of_files:\n",
    "            switch=0\n",
    "            with open(path_unaries+folder+'/'+well_file,'r') as f:\n",
    "                for line in f:\n",
    "                    if(switch==1):\n",
    "                        switch=0\n",
    "                        kx,ky,kz,_,_,_=line.split(' ')\n",
    "                    if(line[:18]=='K_POINTS automatic'):\n",
    "                        switch=1\n",
    "            well_conv_kx.append(int(kx))\n",
    "            well_conv_ky.append(int(ky))\n",
    "            well_conv_kz.append(int(kz))\n",
    "        else:\n",
    "            well_conv_kx.append(np.nan)\n",
    "            well_conv_ky.append(np.nan)\n",
    "            well_conv_kz.append(np.nan)\n",
    "        names.append(folder)\n",
    "        paths.append(path_unaries+folder+'/'+folder+'.cif')\n",
    "    except:\n",
    "        names.append(folder)\n",
    "        paths.append(path_unaries+folder+'/'+folder+'.cif')\n",
    "        well_conv_kx.append(np.nan)\n",
    "        well_conv_ky.append(np.nan)\n",
    "        well_conv_kz.append(np.nan)\n",
    "        medium_conv_kx.append(np.nan)\n",
    "        medium_conv_ky.append(np.nan)\n",
    "        medium_conv_kz.append(np.nan)"
   ]
  },
  {
   "cell_type": "code",
   "execution_count": 42,
   "id": "ce8fa2a8",
   "metadata": {},
   "outputs": [],
   "source": [
    "from pymatgen.core.composition import Composition\n",
    "\n",
    "new_names=[]\n",
    "for name in names:\n",
    "    try:\n",
    "        comp=Composition(name).iupac_formula\n",
    "        new_names.append(comp)\n",
    "    except:\n",
    "        new_names.append('na')"
   ]
  },
  {
   "cell_type": "code",
   "execution_count": 43,
   "id": "0f3b2bb5",
   "metadata": {},
   "outputs": [],
   "source": [
    "df=pd.DataFrame()\n",
    "df['formula']=new_names\n",
    "df['paths']=paths\n",
    "df['well_conv_kx']=well_conv_kx\n",
    "df['well_conv_ky']=well_conv_ky\n",
    "df['well_conv_kz']=well_conv_kz\n",
    "df['medium_conv_kx']=medium_conv_kx\n",
    "df['medium_conv_ky']=medium_conv_ky\n",
    "df['medium_conv_kz']=medium_conv_kz"
   ]
  },
  {
   "cell_type": "code",
   "execution_count": 45,
   "id": "ce2fe0b1",
   "metadata": {},
   "outputs": [],
   "source": [
    "df.to_csv('goldilocks_verification_junwen.csv')"
   ]
  },
  {
   "cell_type": "markdown",
   "id": "5a5ec419",
   "metadata": {},
   "source": [
    "## Comparison"
   ]
  },
  {
   "cell_type": "code",
   "execution_count": 2,
   "id": "ffbaa1e7",
   "metadata": {},
   "outputs": [
    {
     "name": "stdout",
     "output_type": "stream",
     "text": [
      "Obtaining 3D dataset 76k ...\n",
      "Reference:https://www.nature.com/articles/s41524-020-00440-1\n",
      "Other versions:https://doi.org/10.6084/m9.figshare.6815699\n",
      "Loading the zipfile...\n",
      "Loading completed.\n"
     ]
    }
   ],
   "source": [
    "from jarvis.db.figshare import data\n",
    "from pymatgen.core.structure import Structure\n",
    "\n",
    "dft_3d = data('dft_3d')\n",
    "dj=pd.DataFrame(dft_3d)"
   ]
  },
  {
   "cell_type": "code",
   "execution_count": 5,
   "id": "7aabf0a9",
   "metadata": {},
   "outputs": [],
   "source": [
    "new_formulas=[]\n",
    "for form in dj['formula'].values:\n",
    "    comp=Composition(form).iupac_formula\n",
    "    new_formulas.append(comp)\n",
    "dj['formula']=new_formulas"
   ]
  },
  {
   "cell_type": "code",
   "execution_count": 6,
   "id": "619a0f01",
   "metadata": {},
   "outputs": [],
   "source": [
    "df=pd.read_csv('goldilocks_verification_junwen.csv')"
   ]
  },
  {
   "cell_type": "code",
   "execution_count": 7,
   "id": "6dc81f8b",
   "metadata": {},
   "outputs": [
    {
     "name": "stderr",
     "output_type": "stream",
     "text": [
      "/opt/miniconda3/envs/llm/lib/python3.12/site-packages/pymatgen/core/periodic_table.py:289: UserWarning: No Pauling electronegativity for Ne. Setting to NaN. This has no physical meaning, and is mainly done to avoid errors caused by the code expecting a float.\n",
      "  warnings.warn(\n",
      "/opt/miniconda3/envs/llm/lib/python3.12/site-packages/pymatgen/core/periodic_table.py:289: UserWarning: No Pauling electronegativity for Ar. Setting to NaN. This has no physical meaning, and is mainly done to avoid errors caused by the code expecting a float.\n",
      "  warnings.warn(\n",
      "/opt/miniconda3/envs/llm/lib/python3.12/site-packages/pymatgen/core/periodic_table.py:289: UserWarning: No Pauling electronegativity for He. Setting to NaN. This has no physical meaning, and is mainly done to avoid errors caused by the code expecting a float.\n",
      "  warnings.warn(\n"
     ]
    },
    {
     "name": "stdout",
     "output_type": "stream",
     "text": [
      "na\n"
     ]
    }
   ],
   "source": [
    "from pymatgen.analysis.structure_matcher import StructureMatcher\n",
    "\n",
    "formulas=[]\n",
    "jarvis_id=[]\n",
    "atoms_jarvis=[]\n",
    "jarvis_klength=[]\n",
    "well_conv_kx=[]\n",
    "well_conv_ky=[]\n",
    "well_conv_kz=[]\n",
    "medium_conv_kx=[]\n",
    "medium_conv_ky=[]\n",
    "medium_conv_kz=[]\n",
    "\n",
    "matcher = StructureMatcher(attempt_supercell=False)\n",
    "for form in df['formula'].values:\n",
    "    try:\n",
    "        db=df.loc[df['formula']==form]\n",
    "        structure1=Structure.from_file(db['paths'].values[0])\n",
    "        da=dj.loc[dj['formula']==form]\n",
    "        da.reset_index(inplace=True,drop=True)\n",
    "\n",
    "        for i,atoms in enumerate(da['atoms'].values):\n",
    "            structure1=Structure.from_file(db['paths'].values[0])\n",
    "            structure2=Structure(lattice=atoms['lattice_mat'],species=atoms['elements'],coords=atoms['coords'],coords_are_cartesian=True)\n",
    "            structure2=structure2.get_primitive_structure()\n",
    "            is_match = matcher.fit(structure1, structure2)\n",
    "            if(is_match==True):\n",
    "                formulas.append(form)\n",
    "                jarvis_id.append(da['jid'].values[i])\n",
    "                atoms_jarvis.append(atoms)\n",
    "                jarvis_klength.append(da['kpoint_length_unit'].values[i])\n",
    "                well_conv_kx.append(db['well_conv_kx'].values[0])\n",
    "                well_conv_ky.append(db['well_conv_ky'].values[0])\n",
    "                well_conv_kz.append(db['well_conv_kz'].values[0])\n",
    "                medium_conv_kx.append(db['medium_conv_kx'].values[0])\n",
    "                medium_conv_ky.append(db['medium_conv_ky'].values[0])\n",
    "                medium_conv_kz.append(db['medium_conv_kz'].values[0])\n",
    "    except:\n",
    "        print(form)"
   ]
  },
  {
   "cell_type": "code",
   "execution_count": 8,
   "id": "f14f0e59",
   "metadata": {},
   "outputs": [],
   "source": [
    "dff=pd.DataFrame()\n",
    "dff['formula']=formulas\n",
    "dff['jid']=jarvis_id\n",
    "dff['atoms_jarvis']=atoms_jarvis\n",
    "dff['jarvis_klength']=jarvis_klength\n",
    "dff['well_conv_kx']=well_conv_kx\n",
    "dff['well_conv_ky']=well_conv_ky\n",
    "dff['well_conv_kz']=well_conv_kz\n",
    "dff['medium_conv_kx']=medium_conv_kx\n",
    "dff['medium_conv_ky']=medium_conv_ky\n",
    "dff['medium_conv_kz']=medium_conv_kz"
   ]
  },
  {
   "cell_type": "code",
   "execution_count": 9,
   "id": "32cc4225",
   "metadata": {},
   "outputs": [],
   "source": [
    "a=[]\n",
    "b=[]\n",
    "c=[]\n",
    "for ii in range(len(dff)):\n",
    "    a.append(dff['jarvis_klength'].values[ii]/dff['atoms_jarvis'].values[ii]['abc'][0])\n",
    "    b.append(dff['jarvis_klength'].values[ii]/dff['atoms_jarvis'].values[ii]['abc'][1])\n",
    "    c.append(dff['jarvis_klength'].values[ii]/dff['atoms_jarvis'].values[ii]['abc'][2])"
   ]
  },
  {
   "cell_type": "code",
   "execution_count": 10,
   "id": "a308662e",
   "metadata": {},
   "outputs": [],
   "source": [
    "dff['jarvis_kx']=a\n",
    "dff['jarvis_ky']=b\n",
    "dff['jarvis_kz']=c"
   ]
  },
  {
   "cell_type": "code",
   "execution_count": 12,
   "id": "f14b99e5",
   "metadata": {},
   "outputs": [
    {
     "data": {
      "image/png": "[encoded data removed]",
      "text/plain": [
       "<Figure size 640x480 with 1 Axes>"
      ]
     },
     "metadata": {},
     "output_type": "display_data"
    }
   ],
   "source": [
    "import matplotlib.pyplot as plt\n",
    "\n",
    "plt.scatter(da['well_conv_kx'].values,da['jarvis_kx'].values,label='number of points = 188')\n",
    "plt.plot([0,30],[0,30],color='red')\n",
    "plt.xlabel('Junwen kx')\n",
    "plt.ylabel('Jarvis kx')\n",
    "plt.legend()\n",
    "plt.show()"
   ]
  },
  {
   "cell_type": "code",
   "execution_count": 13,
   "id": "dcdeee3e",
   "metadata": {},
   "outputs": [],
   "source": [
    "da=dff.loc[dff['well_conv_kx'].isna()]\n",
    "db=dff.loc[~dff['well_conv_kx'].isna()]"
   ]
  },
  {
   "cell_type": "code",
   "execution_count": 14,
   "id": "ecbab6c9",
   "metadata": {},
   "outputs": [
    {
     "data": {
      "image/png": "[encoded data removed]",
      "text/plain": [
       "<Figure size 640x480 with 1 Axes>"
      ]
     },
     "metadata": {},
     "output_type": "display_data"
    }
   ],
   "source": [
    "plt.hist(db['jarvis_kx'].values,alpha=0.5,label='Junwen well converged')\n",
    "plt.hist(da['jarvis_kx'].values,alpha=0.5,label='Junwen non well converged')\n",
    "plt.xlabel('Jarvis kx')\n",
    "plt.legend()\n",
    "plt.show()"
   ]
  },
  {
   "cell_type": "code",
   "execution_count": null,
   "id": "385377a8",
   "metadata": {},
   "outputs": [],
   "source": []
  },
  {
   "cell_type": "code",
   "execution_count": null,
   "id": "905079b9",
   "metadata": {},
   "outputs": [],
   "source": []
  },
  {
   "cell_type": "code",
   "execution_count": null,
   "id": "dc71e60f",
   "metadata": {},
   "outputs": [],
   "source": []
  },
  {
   "cell_type": "code",
   "execution_count": null,
   "id": "39f6f8c1",
   "metadata": {},
   "outputs": [],
   "source": []
  }
 ],
 "metadata": {
  "kernelspec": {
   "display_name": "Python 3 (ipykernel)",
   "language": "python",
   "name": "python3"
  },
  "language_info": {
   "codemirror_mode": {
    "name": "ipython",
    "version": 3
   },
   "file_extension": ".py",
   "mimetype": "text/x-python",
   "name": "python",
   "nbconvert_exporter": "python",
   "pygments_lexer": "ipython3",
   "version": "3.12.7"
  }
 },
 "nbformat": 4,
 "nbformat_minor": 5
}
